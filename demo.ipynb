{
 "cells": [
  {
   "cell_type": "markdown",
   "id": "0dedcb80-fe40-419d-a4a3-91fad04e8388",
   "metadata": {},
   "source": [
    "# neww one"
   ]
  },
  {
   "cell_type": "code",
   "execution_count": 1,
   "id": "0656ff55-c3e2-4ffa-bd7e-ee53b350a5c0",
   "metadata": {},
   "outputs": [
    {
     "name": "stdout",
     "output_type": "stream",
     "text": [
      "hii\n"
     ]
    }
   ],
   "source": [
    "print(\"hii\")\n"
   ]
  },
  {
   "cell_type": "code",
   "execution_count": 6,
   "id": "298f241c-4643-4404-bf52-0dba623c1e79",
   "metadata": {},
   "outputs": [],
   "source": [
    "def blue():\n",
    "\n",
    "    print(\"keerthi\")\n",
    "\n"
   ]
  },
  {
   "cell_type": "code",
   "execution_count": 7,
   "id": "14af0658-9b5e-420a-9565-845cac5be8ef",
   "metadata": {},
   "outputs": [
    {
     "name": "stdout",
     "output_type": "stream",
     "text": [
      "keerthi\n"
     ]
    }
   ],
   "source": [
    "blue()"
   ]
  },
  {
   "cell_type": "code",
   "execution_count": null,
   "id": "7ef163f5-a86b-4fc6-9859-d76a3d36dc24",
   "metadata": {},
   "outputs": [],
   "source": []
  }
 ],
 "metadata": {
  "kernelspec": {
   "display_name": "Python 3 (ipykernel)",
   "language": "python",
   "name": "python3"
  },
  "language_info": {
   "codemirror_mode": {
    "name": "ipython",
    "version": 3
   },
   "file_extension": ".py",
   "mimetype": "text/x-python",
   "name": "python",
   "nbconvert_exporter": "python",
   "pygments_lexer": "ipython3",
   "version": "3.11.4"
  }
 },
 "nbformat": 4,
 "nbformat_minor": 5
}
